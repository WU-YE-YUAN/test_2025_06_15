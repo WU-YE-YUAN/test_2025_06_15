{
 "cells": [
  {
   "cell_type": "code",
   "execution_count": 1,
   "metadata": {},
   "outputs": [
    {
     "name": "stdout",
     "output_type": "stream",
     "text": [
      "   林大明  陳聰明  黃美麗  熊小娟\n",
      "0   65   90   81   79\n",
      "1   92   72   85   53\n",
      "2   78   76   91   47\n",
      "3   83   93   89   94\n",
      "4   70   56   77   80\n"
     ]
    }
   ],
   "source": [
    "import pandas as pd\n",
    "df = pd.DataFrame( {\"林大明\":[65,92,78,83,70], \"陳聰明\":[90,72,76,93,56], \\\n",
    "    \"黃美麗\":[81,85,91,89,77], \"熊小娟\":[79,53,47,94,80] } )\n",
    "print(df)"
   ]
  },
  {
   "cell_type": "code",
   "execution_count": 4,
   "metadata": {},
   "outputs": [
    {
     "name": "stdout",
     "output_type": "stream",
     "text": [
      "     國文  數學  英文  自然  社會\n",
      "林大明  65  92  78  83  70\n",
      "陳聰明  90  72  76  93  56\n",
      "黃美麗  81  85  91  89  77\n",
      "熊小娟  79  53  47  94  80\n"
     ]
    }
   ],
   "source": [
    "import pandas as pd\n",
    "datas = [[65,92,78,83,70], [90,72,76,93,56], [81,85,91,89,77], [79,53,47,94,80]]\n",
    "A = [\"林大明\", \"陳聰明\", \"黃美麗\", \"熊小娟\"]\n",
    "B = [\"國文\", \"數學\", \"英文\", \"自然\", \"社會\"]\n",
    "df = pd.DataFrame(datas, columns=B,  index=A)\n",
    "print(df)"
   ]
  },
  {
   "cell_type": "code",
   "execution_count": 6,
   "metadata": {},
   "outputs": [
    {
     "name": "stdout",
     "output_type": "stream",
     "text": [
      "     國文  數學  英文  理化  社會\n",
      "林晶輝  65  92  78  83  70\n",
      "陳聰明  90  72  76  93  56\n",
      "黃美麗  81  85  91  89  77\n",
      "熊小娟  79  53  47  94  80\n"
     ]
    }
   ],
   "source": [
    "import pandas as pd\n",
    "datas = [[65,92,78,83,70], [90,72,76,93,56], [81,85,91,89,77], [79,53,47,94,80]]\n",
    "Indexs = [\"林大明\", \"陳聰明\", \"黃美麗\", \"熊小娟\"]\n",
    "Columns = [\"國文\", \"數學\", \"英文\", \"自然\", \"社會\"]\n",
    "df = pd.DataFrame(datas, columns=Columns,  index=Indexs)\n",
    "indexs[0] = \"林晶輝\"\n",
    "df.index = indexs\n",
    "columns[3] = \"理化\"\n",
    "df.columns = columns\n",
    "print(df)"
   ]
  },
  {
   "cell_type": "code",
   "execution_count": 7,
   "metadata": {},
   "outputs": [
    {
     "name": "stdout",
     "output_type": "stream",
     "text": [
      "df[\"自然\"] ->\n",
      "林大明    83\n",
      "陳聰明    93\n",
      "黃美麗    89\n",
      "熊小娟    94\n",
      "Name: 自然, dtype: int64\n",
      "\n",
      "df[[\"國文\", \"數學\", \"自然\"] ->\n",
      "     國文  數學  自然\n",
      "林大明  65  92  83\n",
      "陳聰明  90  72  93\n",
      "黃美麗  81  85  89\n",
      "熊小娟  79  53  94\n",
      "\n",
      "df[df.數學>=80] ->\n",
      "     國文  數學  英文  自然  社會\n",
      "林大明  65  92  78  83  70\n",
      "黃美麗  81  85  91  89  77\n"
     ]
    }
   ],
   "source": [
    "import pandas as pd\n",
    "datas = [[65,92,78,83,70], [90,72,76,93,56], [81,85,91,89,77], [79,53,47,94,80]]\n",
    "indexs = [\"林大明\", \"陳聰明\", \"黃美麗\", \"熊小娟\"]\n",
    "columns = [\"國文\", \"數學\", \"英文\", \"自然\", \"社會\"]\n",
    "df = pd.DataFrame(datas, columns=columns,  index=indexs)\n",
    "print('df[\"自然\"] ->')\n",
    "print(df[\"自然\"])\n",
    "print()\n",
    "print('df[[\"國文\", \"數學\", \"自然\"] ->')\n",
    "print(df[[\"國文\", \"數學\", \"自然\"]])\n",
    "print()\n",
    "print('df[df.數學>=80] ->')\n",
    "print(df[df.數學 >= 80])\n"
   ]
  },
  {
   "cell_type": "code",
   "execution_count": 8,
   "metadata": {},
   "outputs": [
    {
     "name": "stdout",
     "output_type": "stream",
     "text": [
      "df.values：\n",
      "[[65 92 78 83 70]\n",
      " [90 72 76 93 56]\n",
      " [81 85 91 89 77]\n",
      " [79 53 47 94 80]]\n",
      "陳聰明的成績(df.values[1])：\n",
      "[90 72 76 93 56]\n",
      "陳聰明的英文成績(df.values[1][2])：\n",
      "76\n"
     ]
    }
   ],
   "source": [
    "import pandas as pd\n",
    "datas = [[65,92,78,83,70], [90,72,76,93,56], [81,85,91,89,77], [79,53,47,94,80]]\n",
    "indexs = [\"林大明\", \"陳聰明\", \"黃美麗\", \"熊小娟\"]\n",
    "columns = [\"國文\", \"數學\", \"英文\", \"自然\", \"社會\"]\n",
    "df = pd.DataFrame(datas, columns=columns,  index=indexs)\n",
    "print(\"df.values：\")\n",
    "print(df.values)\n",
    "print(\"陳聰明的成績(df.values[1])：\")\n",
    "print(df.values[1])\n",
    "print(\"陳聰明的英文成績(df.values[1][2])：\")\n",
    "print(df.values[1][2])"
   ]
  },
  {
   "cell_type": "code",
   "execution_count": 9,
   "metadata": {},
   "outputs": [
    {
     "data": {
      "text/plain": [
       "numpy.ndarray"
      ]
     },
     "execution_count": 9,
     "metadata": {},
     "output_type": "execute_result"
    }
   ],
   "source": [
    "type(df.values)"
   ]
  },
  {
   "cell_type": "code",
   "execution_count": 10,
   "metadata": {},
   "outputs": [
    {
     "data": {
      "text/plain": [
       "76"
      ]
     },
     "execution_count": 10,
     "metadata": {},
     "output_type": "execute_result"
    }
   ],
   "source": [
    "df.values[1,2]"
   ]
  },
  {
   "cell_type": "code",
   "execution_count": 11,
   "metadata": {},
   "outputs": [
    {
     "name": "stdout",
     "output_type": "stream",
     "text": [
      "df.loc[\"陳聰明\", :] ->\n",
      "國文    90\n",
      "數學    72\n",
      "英文    76\n",
      "自然    93\n",
      "社會    56\n",
      "Name: 陳聰明, dtype: int64\n",
      "\n",
      "df.loc[\"陳聰明\"][\"數學\"] ->\n",
      "72\n",
      "\n",
      "df.loc[(\"陳聰明\", \"熊小娟\") ->\n",
      "     國文  數學  英文  自然  社會\n",
      "陳聰明  90  72  76  93  56\n",
      "熊小娟  79  53  47  94  80\n",
      "\n",
      "df.loc[:, \"數學\"] ->\n",
      "林大明    92\n",
      "陳聰明    72\n",
      "黃美麗    85\n",
      "熊小娟    53\n",
      "Name: 數學, dtype: int64\n",
      "\n",
      "df.loc[(\"陳聰明\", \"熊小娟\"), (\"數學\", \"自然\")] ->\n",
      "     數學  自然\n",
      "陳聰明  72  93\n",
      "熊小娟  53  94\n",
      "\n",
      "df.loc[\"陳聰明\":\"熊小娟\", \"數學\":\"社會\"] ->\n",
      "     數學  英文  自然  社會\n",
      "陳聰明  72  76  93  56\n",
      "黃美麗  85  91  89  77\n",
      "熊小娟  53  47  94  80\n",
      "\n",
      "df.loc[:黃美麗, \"數學\":\"社會\"] ->\n",
      "     數學  英文  自然  社會\n",
      "林大明  92  78  83  70\n",
      "陳聰明  72  76  93  56\n",
      "黃美麗  85  91  89  77\n",
      "\n",
      "df.loc[\"陳聰明\":, \"數學\":\"社會\"] ->\n",
      "     數學  英文  自然  社會\n",
      "陳聰明  72  76  93  56\n",
      "黃美麗  85  91  89  77\n",
      "熊小娟  53  47  94  80\n"
     ]
    }
   ],
   "source": [
    "import pandas as pd\n",
    "datas = [[65,92,78,83,70], [90,72,76,93,56], [81,85,91,89,77], [79,53,47,94,80]]\n",
    "indexs = [\"林大明\", \"陳聰明\", \"黃美麗\", \"熊小娟\"]\n",
    "columns = [\"國文\", \"數學\", \"英文\", \"自然\", \"社會\"]\n",
    "df = pd.DataFrame(datas, columns=columns,  index=indexs)\n",
    "print('df.loc[\"陳聰明\", :] ->')\n",
    "print(df.loc[\"陳聰明\", :])\n",
    "#print(df.loc[\"陳聰明\"])\n",
    "print()\n",
    "print('df.loc[\"陳聰明\"][\"數學\"] ->')\n",
    "print(df.loc[\"陳聰明\"][\"數學\"])\n",
    "print()\n",
    "print('df.loc[(\"陳聰明\", \"熊小娟\") ->')\n",
    "print(df.loc[(\"陳聰明\", \"熊小娟\"), :])\n",
    "print()\n",
    "print('df.loc[:, \"數學\"] ->')\n",
    "print(df.loc[:, \"數學\"])\n",
    "print()\n",
    "print('df.loc[(\"陳聰明\", \"熊小娟\"), (\"數學\", \"自然\")] ->')\n",
    "print(df.loc[(\"陳聰明\", \"熊小娟\"), (\"數學\", \"自然\")])\n",
    "print()\n",
    "print('df.loc[\"陳聰明\":\"熊小娟\", \"數學\":\"社會\"] ->')\n",
    "print(df.loc[\"陳聰明\":\"熊小娟\", \"數學\":\"社會\"])\n",
    "print()\n",
    "print('df.loc[:黃美麗, \"數學\":\"社會\"] ->')\n",
    "print(df.loc[:\"黃美麗\", \"數學\":\"社會\"])\n",
    "print()\n",
    "print('df.loc[\"陳聰明\":, \"數學\":\"社會\"] ->')\n",
    "print(df.loc[\"陳聰明\":, \"數學\":\"社會\"])"
   ]
  },
  {
   "cell_type": "code",
   "execution_count": 12,
   "metadata": {},
   "outputs": [
    {
     "data": {
      "text/plain": [
       "72"
      ]
     },
     "execution_count": 12,
     "metadata": {},
     "output_type": "execute_result"
    }
   ],
   "source": [
    "df.loc[\"陳聰明\",\"數學\"]"
   ]
  },
  {
   "cell_type": "code",
   "execution_count": 14,
   "metadata": {},
   "outputs": [
    {
     "data": {
      "text/html": [
       "<div>\n",
       "<style scoped>\n",
       "    .dataframe tbody tr th:only-of-type {\n",
       "        vertical-align: middle;\n",
       "    }\n",
       "\n",
       "    .dataframe tbody tr th {\n",
       "        vertical-align: top;\n",
       "    }\n",
       "\n",
       "    .dataframe thead th {\n",
       "        text-align: right;\n",
       "    }\n",
       "</style>\n",
       "<table border=\"1\" class=\"dataframe\">\n",
       "  <thead>\n",
       "    <tr style=\"text-align: right;\">\n",
       "      <th></th>\n",
       "      <th>國文</th>\n",
       "      <th>數學</th>\n",
       "      <th>英文</th>\n",
       "      <th>自然</th>\n",
       "      <th>社會</th>\n",
       "    </tr>\n",
       "  </thead>\n",
       "  <tbody>\n",
       "    <tr>\n",
       "      <th>陳聰明</th>\n",
       "      <td>90</td>\n",
       "      <td>72</td>\n",
       "      <td>76</td>\n",
       "      <td>93</td>\n",
       "      <td>56</td>\n",
       "    </tr>\n",
       "    <tr>\n",
       "      <th>熊小娟</th>\n",
       "      <td>79</td>\n",
       "      <td>53</td>\n",
       "      <td>47</td>\n",
       "      <td>94</td>\n",
       "      <td>80</td>\n",
       "    </tr>\n",
       "  </tbody>\n",
       "</table>\n",
       "</div>"
      ],
      "text/plain": [
       "     國文  數學  英文  自然  社會\n",
       "陳聰明  90  72  76  93  56\n",
       "熊小娟  79  53  47  94  80"
      ]
     },
     "execution_count": 14,
     "metadata": {},
     "output_type": "execute_result"
    }
   ],
   "source": [
    "df.loc[[\"陳聰明\", \"熊小娟\"],:]"
   ]
  },
  {
   "cell_type": "code",
   "execution_count": 15,
   "metadata": {},
   "outputs": [
    {
     "data": {
      "text/html": [
       "<div>\n",
       "<style scoped>\n",
       "    .dataframe tbody tr th:only-of-type {\n",
       "        vertical-align: middle;\n",
       "    }\n",
       "\n",
       "    .dataframe tbody tr th {\n",
       "        vertical-align: top;\n",
       "    }\n",
       "\n",
       "    .dataframe thead th {\n",
       "        text-align: right;\n",
       "    }\n",
       "</style>\n",
       "<table border=\"1\" class=\"dataframe\">\n",
       "  <thead>\n",
       "    <tr style=\"text-align: right;\">\n",
       "      <th></th>\n",
       "      <th>數學</th>\n",
       "      <th>自然</th>\n",
       "    </tr>\n",
       "  </thead>\n",
       "  <tbody>\n",
       "    <tr>\n",
       "      <th>陳聰明</th>\n",
       "      <td>72</td>\n",
       "      <td>93</td>\n",
       "    </tr>\n",
       "    <tr>\n",
       "      <th>熊小娟</th>\n",
       "      <td>53</td>\n",
       "      <td>94</td>\n",
       "    </tr>\n",
       "  </tbody>\n",
       "</table>\n",
       "</div>"
      ],
      "text/plain": [
       "     數學  自然\n",
       "陳聰明  72  93\n",
       "熊小娟  53  94"
      ]
     },
     "execution_count": 15,
     "metadata": {},
     "output_type": "execute_result"
    }
   ],
   "source": [
    "df.loc[[\"陳聰明\", \"熊小娟\"], [\"數學\", \"自然\"]]"
   ]
  },
  {
   "cell_type": "code",
   "execution_count": 16,
   "metadata": {},
   "outputs": [
    {
     "name": "stdout",
     "output_type": "stream",
     "text": [
      "df.iloc[1, :] ->\n",
      "國文    90\n",
      "數學    72\n",
      "英文    76\n",
      "自然    93\n",
      "社會    56\n",
      "Name: 陳聰明, dtype: int64\n",
      "\n",
      "df.iloc[1][1] ->\n",
      "72\n"
     ]
    }
   ],
   "source": [
    "import pandas as pd\n",
    "datas = [[65,92,78,83,70], [90,72,76,93,56], [81,85,91,89,77], [79,53,47,94,80]]\n",
    "indexs = [\"林大明\", \"陳聰明\", \"黃美麗\", \"熊小娟\"]\n",
    "columns = [\"國文\", \"數學\", \"英文\", \"自然\", \"社會\"]\n",
    "df = pd.DataFrame(datas, columns=columns,  index=indexs)\n",
    "print('df.iloc[1, :] ->')\n",
    "print(df.iloc[1, :])\n",
    "print()\n",
    "print('df.iloc[1][1] ->')\n",
    "print(df.iloc[1][1])"
   ]
  },
  {
   "cell_type": "code",
   "execution_count": 18,
   "metadata": {},
   "outputs": [
    {
     "data": {
      "text/plain": [
       "林大明    92\n",
       "陳聰明    72\n",
       "Name: 數學, dtype: int64"
      ]
     },
     "execution_count": 18,
     "metadata": {},
     "output_type": "execute_result"
    }
   ],
   "source": [
    "df.iloc[0:2,1]"
   ]
  },
  {
   "cell_type": "code",
   "execution_count": null,
   "metadata": {},
   "outputs": [],
   "source": []
  }
 ],
 "metadata": {
  "kernelspec": {
   "display_name": "Python 3",
   "language": "python",
   "name": "python3"
  },
  "language_info": {
   "codemirror_mode": {
    "name": "ipython",
    "version": 3
   },
   "file_extension": ".py",
   "mimetype": "text/x-python",
   "name": "python",
   "nbconvert_exporter": "python",
   "pygments_lexer": "ipython3",
   "version": "3.6.8"
  }
 },
 "nbformat": 4,
 "nbformat_minor": 2
}
