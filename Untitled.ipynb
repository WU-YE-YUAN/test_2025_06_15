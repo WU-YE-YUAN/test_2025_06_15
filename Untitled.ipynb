{
 "cells": [
  {
   "cell_type": "code",
   "execution_count": 1,
   "metadata": {},
   "outputs": [
    {
     "name": "stdout",
     "output_type": "stream",
     "text": [
      "   林大明  陳聰明  黃美麗  熊小娟\n",
      "0   65   90   81   79\n",
      "1   92   72   85   53\n",
      "2   78   76   91   47\n",
      "3   83   93   89   94\n",
      "4   70   56   77   80\n"
     ]
    }
   ],
   "source": [
    "import pandas as pd\n",
    "df = pd.DataFrame( {\"林大明\":[65,92,78,83,70], \"陳聰明\":[90,72,76,93,56], \\\n",
    "    \"黃美麗\":[81,85,91,89,77], \"熊小娟\":[79,53,47,94,80] } )\n",
    "print(df)"
   ]
  },
  {
   "cell_type": "code",
   "execution_count": 2,
   "metadata": {},
   "outputs": [
    {
     "name": "stdout",
     "output_type": "stream",
     "text": [
      "     國文  數學  英文  自然  社會\n",
      "林大明  65  92  78  83  70\n",
      "陳聰明  90  72  76  93  56\n",
      "黃美麗  81  85  91  89  77\n",
      "熊小娟  79  53  47  94  80\n"
     ]
    }
   ],
   "source": [
    "import pandas as pd\n",
    "datas = [[65,92,78,83,70], [90,72,76,93,56], [81,85,91,89,77], [79,53,47,94,80]]\n",
    "indexs = [\"林大明\", \"陳聰明\", \"黃美麗\", \"熊小娟\"]\n",
    "columns = [\"國文\", \"數學\", \"英文\", \"自然\", \"社會\"]\n",
    "df = pd.DataFrame(datas, columns=columns,  index=indexs)\n",
    "print(df)"
   ]
  },
  {
   "cell_type": "code",
   "execution_count": 3,
   "metadata": {},
   "outputs": [
    {
     "name": "stdout",
     "output_type": "stream",
     "text": [
      "     國文  數學  英文  理化  社會\n",
      "林晶輝  65  92  78  83  70\n",
      "陳聰明  90  72  76  93  56\n",
      "黃美麗  81  85  91  89  77\n",
      "熊小娟  79  53  47  94  80\n"
     ]
    }
   ],
   "source": [
    "import pandas as pd\n",
    "datas = [[65,92,78,83,70], [90,72,76,93,56], [81,85,91,89,77], [79,53,47,94,80]]\n",
    "indexs = [\"林大明\", \"陳聰明\", \"黃美麗\", \"熊小娟\"]\n",
    "columns = [\"國文\", \"數學\", \"英文\", \"自然\", \"社會\"]\n",
    "df = pd.DataFrame(datas, columns=columns,  index=indexs)\n",
    "indexs[0] = \"林晶輝\"\n",
    "df.index = indexs\n",
    "columns[3] = \"理化\"\n",
    "df.columns = columns\n",
    "print(df)"
   ]
  },
  {
   "cell_type": "code",
   "execution_count": 8,
   "metadata": {},
   "outputs": [
    {
     "name": "stdout",
     "output_type": "stream",
     "text": [
      "df[\"自然\"] ->\n",
      "林大明    83\n",
      "陳聰明    93\n",
      "黃美麗    89\n",
      "熊小娟    94\n",
      "Name: 自然, dtype: int64\n",
      "\n",
      "df[[\"國文\", \"數學\", \"自然\"]] ->\n",
      "     國文  數學  自然\n",
      "林大明  65  92  83\n",
      "陳聰明  90  72  93\n",
      "黃美麗  81  85  89\n",
      "熊小娟  79  53  94\n",
      "\n",
      "df[df.數學>=80] ->\n",
      "     國文  數學  英文  自然  社會\n",
      "林大明  65  92  78  83  70\n",
      "黃美麗  81  85  91  89  77\n"
     ]
    }
   ],
   "source": [
    "import pandas as pd\n",
    "datas = [[65,92,78,83,70], [90,72,76,93,56], [81,85,91,89,77], [79,53,47,94,80]]\n",
    "indexs = [\"林大明\", \"陳聰明\", \"黃美麗\", \"熊小娟\"]\n",
    "columns = [\"國文\", \"數學\", \"英文\", \"自然\", \"社會\"]\n",
    "df = pd.DataFrame(datas, columns=columns,  index=indexs)\n",
    "print('df[\"自然\"] ->')\n",
    "print(df[\"自然\"])\n",
    "print()\n",
    "print('df[[\"國文\", \"數學\", \"自然\"]] ->')\n",
    "print(df[[\"國文\", \"數學\", \"自然\"]])\n",
    "print()\n",
    "print('df[df.數學>=80] ->')\n",
    "print(df[df.數學 >= 80])\n"
   ]
  },
  {
   "cell_type": "code",
   "execution_count": 7,
   "metadata": {},
   "outputs": [
    {
     "ename": "SyntaxError",
     "evalue": "invalid character in identifier (<ipython-input-7-d2163dfb5b2d>, line 1)",
     "output_type": "error",
     "traceback": [
      "\u001b[1;36m  File \u001b[1;32m\"<ipython-input-7-d2163dfb5b2d>\"\u001b[1;36m, line \u001b[1;32m1\u001b[0m\n\u001b[1;33m    print(df[\"林大明\"，])\u001b[0m\n\u001b[1;37m                  ^\u001b[0m\n\u001b[1;31mSyntaxError\u001b[0m\u001b[1;31m:\u001b[0m invalid character in identifier\n"
     ]
    }
   ],
   "source": [
    "print(df[\"林大明\"，])"
   ]
  },
  {
   "cell_type": "code",
   "execution_count": 9,
   "metadata": {},
   "outputs": [
    {
     "name": "stdout",
     "output_type": "stream",
     "text": [
      "df.values：\n",
      "[[65 92 78 83 70]\n",
      " [90 72 76 93 56]\n",
      " [81 85 91 89 77]\n",
      " [79 53 47 94 80]]\n",
      "陳聰明的成績(df.values[1])：\n",
      "[90 72 76 93 56]\n",
      "陳聰明的英文成績(df.values[1][2])：\n",
      "76\n"
     ]
    }
   ],
   "source": [
    "import pandas as pd\n",
    "datas = [[65,92,78,83,70], [90,72,76,93,56], [81,85,91,89,77], [79,53,47,94,80]]\n",
    "indexs = [\"林大明\", \"陳聰明\", \"黃美麗\", \"熊小娟\"]\n",
    "columns = [\"國文\", \"數學\", \"英文\", \"自然\", \"社會\"]\n",
    "df = pd.DataFrame(datas, columns=columns,  index=indexs)\n",
    "print(\"df.values：\")\n",
    "print(df.values)\n",
    "print(\"陳聰明的成績(df.values[1])：\")\n",
    "print(df.values[1])\n",
    "print(\"陳聰明的英文成績(df.values[1][2])：\")\n",
    "print(df.values[1][2])"
   ]
  },
  {
   "cell_type": "code",
   "execution_count": 8,
   "metadata": {},
   "outputs": [
    {
     "data": {
      "text/plain": [
       "numpy.ndarray"
      ]
     },
     "execution_count": 8,
     "metadata": {},
     "output_type": "execute_result"
    }
   ],
   "source": [
    " type(df.values)    #numpy.ndarray"
   ]
  },
  {
   "cell_type": "code",
   "execution_count": 10,
   "metadata": {},
   "outputs": [
    {
     "data": {
      "text/plain": [
       "list"
      ]
     },
     "execution_count": 10,
     "metadata": {},
     "output_type": "execute_result"
    }
   ],
   "source": [
    " type(datas) "
   ]
  },
  {
   "cell_type": "code",
   "execution_count": 9,
   "metadata": {},
   "outputs": [
    {
     "name": "stdout",
     "output_type": "stream",
     "text": [
      "第 1 個表格：\n",
      "                                                   0\n",
      "0  google_ad_client = \"ca-pub-9803646600609510\"; ...\n",
      "\n",
      "第 2 個表格：\n",
      "                                                   0\n",
      "0  google_ad_client = \"ca-pub-9803646600609510\"; ...\n",
      "1  首頁 市場動態 歷史股價 基金淨值 基金分類 經濟數據總覽 美元定存  技術指標 期貨報告 ...\n",
      "\n",
      "第 3 個表格：\n",
      "    0                                                  1\n",
      "0 NaN  google_ad_client = \"ca-pub-9803646600609510\"; ...\n",
      "\n",
      "第 4 個表格：\n",
      "                                                   0     1\n",
      "0  首頁 市場動態 歷史股價 基金淨值 基金分類 經濟數據總覽 美元定存  技術指標 期貨報告 ...  简体中文\n",
      "\n",
      "第 5 個表格：\n",
      "                                                   0  \\\n",
      "0  市場動態 全球股市排行榜 相對低檔股市指數 相對高檔股市指數 亞洲股市指數 歐洲股市、非洲指...   \n",
      "\n",
      "                                                   1  \n",
      "0  原物料商品行情 刷新時間 2019/6/4 07:02:49  商品價格 (Commodit...  \n",
      "\n",
      "第 6 個表格：\n",
      "                                                   0\n",
      "0  市場動態 全球股市排行榜 相對低檔股市指數 相對高檔股市指數 亞洲股市指數 歐洲股市、非洲指...\n",
      "\n",
      "第 7 個表格：\n",
      "                                0   1\n",
      "0  原物料商品行情 刷新時間 2019/6/4 07:02:49 NaN\n",
      "\n",
      "第 8 個表格：\n",
      "                  0                 1                 2                 3  \\\n",
      "0  商品價格 (Commodity)  商品價格 (Commodity)  商品價格 (Commodity)  商品價格 (Commodity)   \n",
      "1                商品                買價                漲跌                比例   \n",
      "2                黃金           1325.80             19.90             1.53%   \n",
      "3                 銀             14.87              0.21             1.41%   \n",
      "4                白金            825.00             29.00             3.67%   \n",
      "\n",
      "                  4  \n",
      "0  商品價格 (Commodity)  \n",
      "1                台北  \n",
      "2             06/03  \n",
      "3             06/03  \n",
      "4             06/03  \n",
      "\n",
      "第 9 個表格：\n",
      "                                                   0\n",
      "0  google_ad_client = \"ca-pub-9803646600609510\"; ...\n",
      "\n",
      "第 10 個表格：\n",
      "                                                   0\n",
      "0            行動網站  | 借錢救急 | Outlet  | 網站地圖  | 聯絡我們 ﻿\n",
      "1  StockQ 全球股市指數 / 简体版 / English / Indeks pasar ©...\n",
      "\n"
     ]
    }
   ],
   "source": [
    "import pandas as pd\n",
    "tables = pd.read_html(\"http://www.stockq.org/market/commodity.php\")\n",
    "n = 1\n",
    "for table in tables:\n",
    "    print(\"第 \" + str(n) + \" 個表格：\")\n",
    "    print(table.head())\n",
    "    print()\n",
    "    n += 1"
   ]
  },
  {
   "cell_type": "code",
   "execution_count": 10,
   "metadata": {},
   "outputs": [
    {
     "ename": "HTTPError",
     "evalue": "HTTP Error 404: Not Found",
     "output_type": "error",
     "traceback": [
      "\u001b[1;31m---------------------------------------------------------------------------\u001b[0m",
      "\u001b[1;31mHTTPError\u001b[0m                                 Traceback (most recent call last)",
      "\u001b[1;32m<ipython-input-10-77179d2c099f>\u001b[0m in \u001b[0;36m<module>\u001b[1;34m\u001b[0m\n\u001b[0;32m      1\u001b[0m \u001b[1;32mimport\u001b[0m \u001b[0mpandas\u001b[0m \u001b[1;32mas\u001b[0m \u001b[0mpd\u001b[0m\u001b[1;33m\u001b[0m\u001b[1;33m\u001b[0m\u001b[0m\n\u001b[1;32m----> 2\u001b[1;33m \u001b[0mdata\u001b[0m \u001b[1;33m=\u001b[0m \u001b[0mpd\u001b[0m\u001b[1;33m.\u001b[0m\u001b[0mread_csv\u001b[0m\u001b[1;33m(\u001b[0m\u001b[1;34m\"http://opendata.epa.gov.tw/ws/Data/REWXQA/?$orderby=SiteName&$skip=0&$top=1000&format=csv\"\u001b[0m\u001b[1;33m)\u001b[0m\u001b[1;33m\u001b[0m\u001b[1;33m\u001b[0m\u001b[0m\n\u001b[0m\u001b[0;32m      3\u001b[0m \u001b[0mprint\u001b[0m\u001b[1;33m(\u001b[0m\u001b[0mdata\u001b[0m\u001b[1;33m)\u001b[0m\u001b[1;33m\u001b[0m\u001b[1;33m\u001b[0m\u001b[0m\n",
      "\u001b[1;32m~\\.conda\\envs\\tensorflow\\lib\\site-packages\\pandas\\io\\parsers.py\u001b[0m in \u001b[0;36mparser_f\u001b[1;34m(filepath_or_buffer, sep, delimiter, header, names, index_col, usecols, squeeze, prefix, mangle_dupe_cols, dtype, engine, converters, true_values, false_values, skipinitialspace, skiprows, skipfooter, nrows, na_values, keep_default_na, na_filter, verbose, skip_blank_lines, parse_dates, infer_datetime_format, keep_date_col, date_parser, dayfirst, iterator, chunksize, compression, thousands, decimal, lineterminator, quotechar, quoting, doublequote, escapechar, comment, encoding, dialect, tupleize_cols, error_bad_lines, warn_bad_lines, delim_whitespace, low_memory, memory_map, float_precision)\u001b[0m\n\u001b[0;32m    700\u001b[0m                     skip_blank_lines=skip_blank_lines)\n\u001b[0;32m    701\u001b[0m \u001b[1;33m\u001b[0m\u001b[0m\n\u001b[1;32m--> 702\u001b[1;33m         \u001b[1;32mreturn\u001b[0m \u001b[0m_read\u001b[0m\u001b[1;33m(\u001b[0m\u001b[0mfilepath_or_buffer\u001b[0m\u001b[1;33m,\u001b[0m \u001b[0mkwds\u001b[0m\u001b[1;33m)\u001b[0m\u001b[1;33m\u001b[0m\u001b[1;33m\u001b[0m\u001b[0m\n\u001b[0m\u001b[0;32m    703\u001b[0m \u001b[1;33m\u001b[0m\u001b[0m\n\u001b[0;32m    704\u001b[0m     \u001b[0mparser_f\u001b[0m\u001b[1;33m.\u001b[0m\u001b[0m__name__\u001b[0m \u001b[1;33m=\u001b[0m \u001b[0mname\u001b[0m\u001b[1;33m\u001b[0m\u001b[1;33m\u001b[0m\u001b[0m\n",
      "\u001b[1;32m~\\.conda\\envs\\tensorflow\\lib\\site-packages\\pandas\\io\\parsers.py\u001b[0m in \u001b[0;36m_read\u001b[1;34m(filepath_or_buffer, kwds)\u001b[0m\n\u001b[0;32m    411\u001b[0m     \u001b[0mcompression\u001b[0m \u001b[1;33m=\u001b[0m \u001b[0m_infer_compression\u001b[0m\u001b[1;33m(\u001b[0m\u001b[0mfilepath_or_buffer\u001b[0m\u001b[1;33m,\u001b[0m \u001b[0mcompression\u001b[0m\u001b[1;33m)\u001b[0m\u001b[1;33m\u001b[0m\u001b[1;33m\u001b[0m\u001b[0m\n\u001b[0;32m    412\u001b[0m     filepath_or_buffer, _, compression, should_close = get_filepath_or_buffer(\n\u001b[1;32m--> 413\u001b[1;33m         filepath_or_buffer, encoding, compression)\n\u001b[0m\u001b[0;32m    414\u001b[0m     \u001b[0mkwds\u001b[0m\u001b[1;33m[\u001b[0m\u001b[1;34m'compression'\u001b[0m\u001b[1;33m]\u001b[0m \u001b[1;33m=\u001b[0m \u001b[0mcompression\u001b[0m\u001b[1;33m\u001b[0m\u001b[1;33m\u001b[0m\u001b[0m\n\u001b[0;32m    415\u001b[0m \u001b[1;33m\u001b[0m\u001b[0m\n",
      "\u001b[1;32m~\\.conda\\envs\\tensorflow\\lib\\site-packages\\pandas\\io\\common.py\u001b[0m in \u001b[0;36mget_filepath_or_buffer\u001b[1;34m(filepath_or_buffer, encoding, compression, mode)\u001b[0m\n\u001b[0;32m    200\u001b[0m \u001b[1;33m\u001b[0m\u001b[0m\n\u001b[0;32m    201\u001b[0m     \u001b[1;32mif\u001b[0m \u001b[0m_is_url\u001b[0m\u001b[1;33m(\u001b[0m\u001b[0mfilepath_or_buffer\u001b[0m\u001b[1;33m)\u001b[0m\u001b[1;33m:\u001b[0m\u001b[1;33m\u001b[0m\u001b[1;33m\u001b[0m\u001b[0m\n\u001b[1;32m--> 202\u001b[1;33m         \u001b[0mreq\u001b[0m \u001b[1;33m=\u001b[0m \u001b[0m_urlopen\u001b[0m\u001b[1;33m(\u001b[0m\u001b[0mfilepath_or_buffer\u001b[0m\u001b[1;33m)\u001b[0m\u001b[1;33m\u001b[0m\u001b[1;33m\u001b[0m\u001b[0m\n\u001b[0m\u001b[0;32m    203\u001b[0m         \u001b[0mcontent_encoding\u001b[0m \u001b[1;33m=\u001b[0m \u001b[0mreq\u001b[0m\u001b[1;33m.\u001b[0m\u001b[0mheaders\u001b[0m\u001b[1;33m.\u001b[0m\u001b[0mget\u001b[0m\u001b[1;33m(\u001b[0m\u001b[1;34m'Content-Encoding'\u001b[0m\u001b[1;33m,\u001b[0m \u001b[1;32mNone\u001b[0m\u001b[1;33m)\u001b[0m\u001b[1;33m\u001b[0m\u001b[1;33m\u001b[0m\u001b[0m\n\u001b[0;32m    204\u001b[0m         \u001b[1;32mif\u001b[0m \u001b[0mcontent_encoding\u001b[0m \u001b[1;33m==\u001b[0m \u001b[1;34m'gzip'\u001b[0m\u001b[1;33m:\u001b[0m\u001b[1;33m\u001b[0m\u001b[1;33m\u001b[0m\u001b[0m\n",
      "\u001b[1;32m~\\.conda\\envs\\tensorflow\\lib\\urllib\\request.py\u001b[0m in \u001b[0;36murlopen\u001b[1;34m(url, data, timeout, cafile, capath, cadefault, context)\u001b[0m\n\u001b[0;32m    220\u001b[0m     \u001b[1;32melse\u001b[0m\u001b[1;33m:\u001b[0m\u001b[1;33m\u001b[0m\u001b[1;33m\u001b[0m\u001b[0m\n\u001b[0;32m    221\u001b[0m         \u001b[0mopener\u001b[0m \u001b[1;33m=\u001b[0m \u001b[0m_opener\u001b[0m\u001b[1;33m\u001b[0m\u001b[1;33m\u001b[0m\u001b[0m\n\u001b[1;32m--> 222\u001b[1;33m     \u001b[1;32mreturn\u001b[0m \u001b[0mopener\u001b[0m\u001b[1;33m.\u001b[0m\u001b[0mopen\u001b[0m\u001b[1;33m(\u001b[0m\u001b[0murl\u001b[0m\u001b[1;33m,\u001b[0m \u001b[0mdata\u001b[0m\u001b[1;33m,\u001b[0m \u001b[0mtimeout\u001b[0m\u001b[1;33m)\u001b[0m\u001b[1;33m\u001b[0m\u001b[1;33m\u001b[0m\u001b[0m\n\u001b[0m\u001b[0;32m    223\u001b[0m \u001b[1;33m\u001b[0m\u001b[0m\n\u001b[0;32m    224\u001b[0m \u001b[1;32mdef\u001b[0m \u001b[0minstall_opener\u001b[0m\u001b[1;33m(\u001b[0m\u001b[0mopener\u001b[0m\u001b[1;33m)\u001b[0m\u001b[1;33m:\u001b[0m\u001b[1;33m\u001b[0m\u001b[1;33m\u001b[0m\u001b[0m\n",
      "\u001b[1;32m~\\.conda\\envs\\tensorflow\\lib\\urllib\\request.py\u001b[0m in \u001b[0;36mopen\u001b[1;34m(self, fullurl, data, timeout)\u001b[0m\n\u001b[0;32m    529\u001b[0m         \u001b[1;32mfor\u001b[0m \u001b[0mprocessor\u001b[0m \u001b[1;32min\u001b[0m \u001b[0mself\u001b[0m\u001b[1;33m.\u001b[0m\u001b[0mprocess_response\u001b[0m\u001b[1;33m.\u001b[0m\u001b[0mget\u001b[0m\u001b[1;33m(\u001b[0m\u001b[0mprotocol\u001b[0m\u001b[1;33m,\u001b[0m \u001b[1;33m[\u001b[0m\u001b[1;33m]\u001b[0m\u001b[1;33m)\u001b[0m\u001b[1;33m:\u001b[0m\u001b[1;33m\u001b[0m\u001b[1;33m\u001b[0m\u001b[0m\n\u001b[0;32m    530\u001b[0m             \u001b[0mmeth\u001b[0m \u001b[1;33m=\u001b[0m \u001b[0mgetattr\u001b[0m\u001b[1;33m(\u001b[0m\u001b[0mprocessor\u001b[0m\u001b[1;33m,\u001b[0m \u001b[0mmeth_name\u001b[0m\u001b[1;33m)\u001b[0m\u001b[1;33m\u001b[0m\u001b[1;33m\u001b[0m\u001b[0m\n\u001b[1;32m--> 531\u001b[1;33m             \u001b[0mresponse\u001b[0m \u001b[1;33m=\u001b[0m \u001b[0mmeth\u001b[0m\u001b[1;33m(\u001b[0m\u001b[0mreq\u001b[0m\u001b[1;33m,\u001b[0m \u001b[0mresponse\u001b[0m\u001b[1;33m)\u001b[0m\u001b[1;33m\u001b[0m\u001b[1;33m\u001b[0m\u001b[0m\n\u001b[0m\u001b[0;32m    532\u001b[0m \u001b[1;33m\u001b[0m\u001b[0m\n\u001b[0;32m    533\u001b[0m         \u001b[1;32mreturn\u001b[0m \u001b[0mresponse\u001b[0m\u001b[1;33m\u001b[0m\u001b[1;33m\u001b[0m\u001b[0m\n",
      "\u001b[1;32m~\\.conda\\envs\\tensorflow\\lib\\urllib\\request.py\u001b[0m in \u001b[0;36mhttp_response\u001b[1;34m(self, request, response)\u001b[0m\n\u001b[0;32m    639\u001b[0m         \u001b[1;32mif\u001b[0m \u001b[1;32mnot\u001b[0m \u001b[1;33m(\u001b[0m\u001b[1;36m200\u001b[0m \u001b[1;33m<=\u001b[0m \u001b[0mcode\u001b[0m \u001b[1;33m<\u001b[0m \u001b[1;36m300\u001b[0m\u001b[1;33m)\u001b[0m\u001b[1;33m:\u001b[0m\u001b[1;33m\u001b[0m\u001b[1;33m\u001b[0m\u001b[0m\n\u001b[0;32m    640\u001b[0m             response = self.parent.error(\n\u001b[1;32m--> 641\u001b[1;33m                 'http', request, response, code, msg, hdrs)\n\u001b[0m\u001b[0;32m    642\u001b[0m \u001b[1;33m\u001b[0m\u001b[0m\n\u001b[0;32m    643\u001b[0m         \u001b[1;32mreturn\u001b[0m \u001b[0mresponse\u001b[0m\u001b[1;33m\u001b[0m\u001b[1;33m\u001b[0m\u001b[0m\n",
      "\u001b[1;32m~\\.conda\\envs\\tensorflow\\lib\\urllib\\request.py\u001b[0m in \u001b[0;36merror\u001b[1;34m(self, proto, *args)\u001b[0m\n\u001b[0;32m    567\u001b[0m         \u001b[1;32mif\u001b[0m \u001b[0mhttp_err\u001b[0m\u001b[1;33m:\u001b[0m\u001b[1;33m\u001b[0m\u001b[1;33m\u001b[0m\u001b[0m\n\u001b[0;32m    568\u001b[0m             \u001b[0margs\u001b[0m \u001b[1;33m=\u001b[0m \u001b[1;33m(\u001b[0m\u001b[0mdict\u001b[0m\u001b[1;33m,\u001b[0m \u001b[1;34m'default'\u001b[0m\u001b[1;33m,\u001b[0m \u001b[1;34m'http_error_default'\u001b[0m\u001b[1;33m)\u001b[0m \u001b[1;33m+\u001b[0m \u001b[0morig_args\u001b[0m\u001b[1;33m\u001b[0m\u001b[1;33m\u001b[0m\u001b[0m\n\u001b[1;32m--> 569\u001b[1;33m             \u001b[1;32mreturn\u001b[0m \u001b[0mself\u001b[0m\u001b[1;33m.\u001b[0m\u001b[0m_call_chain\u001b[0m\u001b[1;33m(\u001b[0m\u001b[1;33m*\u001b[0m\u001b[0margs\u001b[0m\u001b[1;33m)\u001b[0m\u001b[1;33m\u001b[0m\u001b[1;33m\u001b[0m\u001b[0m\n\u001b[0m\u001b[0;32m    570\u001b[0m \u001b[1;33m\u001b[0m\u001b[0m\n\u001b[0;32m    571\u001b[0m \u001b[1;31m# XXX probably also want an abstract factory that knows when it makes\u001b[0m\u001b[1;33m\u001b[0m\u001b[1;33m\u001b[0m\u001b[1;33m\u001b[0m\u001b[0m\n",
      "\u001b[1;32m~\\.conda\\envs\\tensorflow\\lib\\urllib\\request.py\u001b[0m in \u001b[0;36m_call_chain\u001b[1;34m(self, chain, kind, meth_name, *args)\u001b[0m\n\u001b[0;32m    501\u001b[0m         \u001b[1;32mfor\u001b[0m \u001b[0mhandler\u001b[0m \u001b[1;32min\u001b[0m \u001b[0mhandlers\u001b[0m\u001b[1;33m:\u001b[0m\u001b[1;33m\u001b[0m\u001b[1;33m\u001b[0m\u001b[0m\n\u001b[0;32m    502\u001b[0m             \u001b[0mfunc\u001b[0m \u001b[1;33m=\u001b[0m \u001b[0mgetattr\u001b[0m\u001b[1;33m(\u001b[0m\u001b[0mhandler\u001b[0m\u001b[1;33m,\u001b[0m \u001b[0mmeth_name\u001b[0m\u001b[1;33m)\u001b[0m\u001b[1;33m\u001b[0m\u001b[1;33m\u001b[0m\u001b[0m\n\u001b[1;32m--> 503\u001b[1;33m             \u001b[0mresult\u001b[0m \u001b[1;33m=\u001b[0m \u001b[0mfunc\u001b[0m\u001b[1;33m(\u001b[0m\u001b[1;33m*\u001b[0m\u001b[0margs\u001b[0m\u001b[1;33m)\u001b[0m\u001b[1;33m\u001b[0m\u001b[1;33m\u001b[0m\u001b[0m\n\u001b[0m\u001b[0;32m    504\u001b[0m             \u001b[1;32mif\u001b[0m \u001b[0mresult\u001b[0m \u001b[1;32mis\u001b[0m \u001b[1;32mnot\u001b[0m \u001b[1;32mNone\u001b[0m\u001b[1;33m:\u001b[0m\u001b[1;33m\u001b[0m\u001b[1;33m\u001b[0m\u001b[0m\n\u001b[0;32m    505\u001b[0m                 \u001b[1;32mreturn\u001b[0m \u001b[0mresult\u001b[0m\u001b[1;33m\u001b[0m\u001b[1;33m\u001b[0m\u001b[0m\n",
      "\u001b[1;32m~\\.conda\\envs\\tensorflow\\lib\\urllib\\request.py\u001b[0m in \u001b[0;36mhttp_error_default\u001b[1;34m(self, req, fp, code, msg, hdrs)\u001b[0m\n\u001b[0;32m    647\u001b[0m \u001b[1;32mclass\u001b[0m \u001b[0mHTTPDefaultErrorHandler\u001b[0m\u001b[1;33m(\u001b[0m\u001b[0mBaseHandler\u001b[0m\u001b[1;33m)\u001b[0m\u001b[1;33m:\u001b[0m\u001b[1;33m\u001b[0m\u001b[1;33m\u001b[0m\u001b[0m\n\u001b[0;32m    648\u001b[0m     \u001b[1;32mdef\u001b[0m \u001b[0mhttp_error_default\u001b[0m\u001b[1;33m(\u001b[0m\u001b[0mself\u001b[0m\u001b[1;33m,\u001b[0m \u001b[0mreq\u001b[0m\u001b[1;33m,\u001b[0m \u001b[0mfp\u001b[0m\u001b[1;33m,\u001b[0m \u001b[0mcode\u001b[0m\u001b[1;33m,\u001b[0m \u001b[0mmsg\u001b[0m\u001b[1;33m,\u001b[0m \u001b[0mhdrs\u001b[0m\u001b[1;33m)\u001b[0m\u001b[1;33m:\u001b[0m\u001b[1;33m\u001b[0m\u001b[1;33m\u001b[0m\u001b[0m\n\u001b[1;32m--> 649\u001b[1;33m         \u001b[1;32mraise\u001b[0m \u001b[0mHTTPError\u001b[0m\u001b[1;33m(\u001b[0m\u001b[0mreq\u001b[0m\u001b[1;33m.\u001b[0m\u001b[0mfull_url\u001b[0m\u001b[1;33m,\u001b[0m \u001b[0mcode\u001b[0m\u001b[1;33m,\u001b[0m \u001b[0mmsg\u001b[0m\u001b[1;33m,\u001b[0m \u001b[0mhdrs\u001b[0m\u001b[1;33m,\u001b[0m \u001b[0mfp\u001b[0m\u001b[1;33m)\u001b[0m\u001b[1;33m\u001b[0m\u001b[1;33m\u001b[0m\u001b[0m\n\u001b[0m\u001b[0;32m    650\u001b[0m \u001b[1;33m\u001b[0m\u001b[0m\n\u001b[0;32m    651\u001b[0m \u001b[1;32mclass\u001b[0m \u001b[0mHTTPRedirectHandler\u001b[0m\u001b[1;33m(\u001b[0m\u001b[0mBaseHandler\u001b[0m\u001b[1;33m)\u001b[0m\u001b[1;33m:\u001b[0m\u001b[1;33m\u001b[0m\u001b[1;33m\u001b[0m\u001b[0m\n",
      "\u001b[1;31mHTTPError\u001b[0m: HTTP Error 404: Not Found"
     ]
    }
   ],
   "source": [
    "import pandas as pd\n",
    "data = pd.read_csv(\"http://opendata.epa.gov.tw/ws/Data/REWXQA/?$orderby=SiteName&$skip=0&$top=1000&format=csv\")\n",
    "print(data)"
   ]
  },
  {
   "cell_type": "code",
   "execution_count": 11,
   "metadata": {},
   "outputs": [
    {
     "name": "stdout",
     "output_type": "stream",
     "text": [
      "df.loc[\"陳聰明\", :] ->\n",
      "國文    90\n",
      "數學    72\n",
      "英文    76\n",
      "自然    93\n",
      "社會    56\n",
      "Name: 陳聰明, dtype: int64\n",
      "\n",
      "df.loc[\"陳聰明\"][\"數學\"] ->\n",
      "72\n",
      "\n",
      "df.loc[(\"陳聰明\", \"熊小娟\") ->\n",
      "     國文  數學  英文  自然  社會\n",
      "陳聰明  90  72  76  93  56\n",
      "熊小娟  79  53  47  94  80\n",
      "\n",
      "df.loc[:, \"數學\"] ->\n",
      "林大明    92\n",
      "陳聰明    72\n",
      "黃美麗    85\n",
      "熊小娟    53\n",
      "Name: 數學, dtype: int64\n",
      "\n",
      "df.loc[(\"陳聰明\", \"熊小娟\"), (\"數學\", \"自然\")] ->\n",
      "     數學  自然\n",
      "陳聰明  72  93\n",
      "熊小娟  53  94\n",
      "\n",
      "df.loc[\"陳聰明\":\"熊小娟\", \"數學\":\"社會\"] ->\n",
      "     數學  英文  自然  社會\n",
      "陳聰明  72  76  93  56\n",
      "黃美麗  85  91  89  77\n",
      "熊小娟  53  47  94  80\n",
      "\n",
      "df.loc[:黃美麗, \"數學\":\"社會\"] ->\n",
      "     數學  英文  自然  社會\n",
      "林大明  92  78  83  70\n",
      "陳聰明  72  76  93  56\n",
      "黃美麗  85  91  89  77\n",
      "\n",
      "df.loc[\"陳聰明\":, \"數學\":\"社會\"] ->\n",
      "     數學  英文  自然  社會\n",
      "陳聰明  72  76  93  56\n",
      "黃美麗  85  91  89  77\n",
      "熊小娟  53  47  94  80\n"
     ]
    }
   ],
   "source": [
    "import pandas as pd\n",
    "datas = [[65,92,78,83,70], [90,72,76,93,56], [81,85,91,89,77], [79,53,47,94,80]]\n",
    "indexs = [\"林大明\", \"陳聰明\", \"黃美麗\", \"熊小娟\"]\n",
    "columns = [\"國文\", \"數學\", \"英文\", \"自然\", \"社會\"]\n",
    "df = pd.DataFrame(datas, columns=columns,  index=indexs)\n",
    "print('df.loc[\"陳聰明\", :] ->')\n",
    "print(df.loc[\"陳聰明\", :])\n",
    "#print(df.loc[\"陳聰明\"])\n",
    "print()\n",
    "print('df.loc[\"陳聰明\"][\"數學\"] ->')\n",
    "print(df.loc[\"陳聰明\"][\"數學\"])\n",
    "print()\n",
    "print('df.loc[(\"陳聰明\", \"熊小娟\"),:] ->')\n",
    "print(df.loc[(\"陳聰明\", \"熊小娟\"), :])\n",
    "print()\n",
    "print('df.loc[:, \"數學\"] ->')\n",
    "print(df.loc[:, \"數學\"])\n",
    "print()\n",
    "print('df.loc[(\"陳聰明\", \"熊小娟\"), (\"數學\", \"自然\")] ->')\n",
    "print(df.loc[(\"陳聰明\", \"熊小娟\"), (\"數學\", \"自然\")])\n",
    "print()\n",
    "print('df.loc[\"陳聰明\":\"熊小娟\", \"數學\":\"社會\"] ->')\n",
    "print(df.loc[\"陳聰明\":\"熊小娟\", \"數學\":\"社會\"])\n",
    "print()\n",
    "print('df.loc[:黃美麗, \"數學\":\"社會\"] ->')\n",
    "print(df.loc[:\"黃美麗\", \"數學\":\"社會\"])\n",
    "print()\n",
    "print('df.loc[\"陳聰明\":, \"數學\":\"社會\"] ->')\n",
    "print(df.loc[\"陳聰明\":, \"數學\":\"社會\"])"
   ]
  },
  {
   "cell_type": "code",
   "execution_count": 12,
   "metadata": {},
   "outputs": [
    {
     "name": "stdout",
     "output_type": "stream",
     "text": [
      "72\n"
     ]
    }
   ],
   "source": [
    "print(df.loc[\"陳聰明\",\"數學\"])"
   ]
  },
  {
   "cell_type": "code",
   "execution_count": 4,
   "metadata": {},
   "outputs": [
    {
     "ename": "SyntaxError",
     "evalue": "invalid syntax (<ipython-input-4-67f738b13fba>, line 1)",
     "output_type": "error",
     "traceback": [
      "\u001b[1;36m  File \u001b[1;32m\"<ipython-input-4-67f738b13fba>\"\u001b[1;36m, line \u001b[1;32m1\u001b[0m\n\u001b[1;33m    df.loc([[\"陳聰明\", \"黃美麗\", \"熊小娟\"],[\"數學\":]])\u001b[0m\n\u001b[1;37m                                       ^\u001b[0m\n\u001b[1;31mSyntaxError\u001b[0m\u001b[1;31m:\u001b[0m invalid syntax\n"
     ]
    }
   ],
   "source": [
    "df.loc([[\"陳聰明\", \"黃美麗\", \"熊小娟\"],[\"數學\":]])"
   ]
  },
  {
   "cell_type": "code",
   "execution_count": 5,
   "metadata": {},
   "outputs": [
    {
     "data": {
      "text/html": [
       "<div>\n",
       "<style scoped>\n",
       "    .dataframe tbody tr th:only-of-type {\n",
       "        vertical-align: middle;\n",
       "    }\n",
       "\n",
       "    .dataframe tbody tr th {\n",
       "        vertical-align: top;\n",
       "    }\n",
       "\n",
       "    .dataframe thead th {\n",
       "        text-align: right;\n",
       "    }\n",
       "</style>\n",
       "<table border=\"1\" class=\"dataframe\">\n",
       "  <thead>\n",
       "    <tr style=\"text-align: right;\">\n",
       "      <th></th>\n",
       "      <th>國文</th>\n",
       "      <th>數學</th>\n",
       "      <th>英文</th>\n",
       "      <th>理化</th>\n",
       "      <th>社會</th>\n",
       "    </tr>\n",
       "  </thead>\n",
       "  <tbody>\n",
       "    <tr>\n",
       "      <th>陳聰明</th>\n",
       "      <td>90</td>\n",
       "      <td>72</td>\n",
       "      <td>76</td>\n",
       "      <td>93</td>\n",
       "      <td>56</td>\n",
       "    </tr>\n",
       "    <tr>\n",
       "      <th>黃美麗</th>\n",
       "      <td>81</td>\n",
       "      <td>85</td>\n",
       "      <td>91</td>\n",
       "      <td>89</td>\n",
       "      <td>77</td>\n",
       "    </tr>\n",
       "    <tr>\n",
       "      <th>熊小娟</th>\n",
       "      <td>79</td>\n",
       "      <td>53</td>\n",
       "      <td>47</td>\n",
       "      <td>94</td>\n",
       "      <td>80</td>\n",
       "    </tr>\n",
       "  </tbody>\n",
       "</table>\n",
       "</div>"
      ],
      "text/plain": [
       "     國文  數學  英文  理化  社會\n",
       "陳聰明  90  72  76  93  56\n",
       "黃美麗  81  85  91  89  77\n",
       "熊小娟  79  53  47  94  80"
      ]
     },
     "execution_count": 5,
     "metadata": {},
     "output_type": "execute_result"
    }
   ],
   "source": [
    "df.loc[\"陳聰明\":\"熊小娟\",\"國文\":\"社會\"]"
   ]
  },
  {
   "cell_type": "code",
   "execution_count": null,
   "metadata": {},
   "outputs": [],
   "source": []
  }
 ],
 "metadata": {
  "kernelspec": {
   "display_name": "Python 3",
   "language": "python",
   "name": "python3"
  },
  "language_info": {
   "codemirror_mode": {
    "name": "ipython",
    "version": 3
   },
   "file_extension": ".py",
   "mimetype": "text/x-python",
   "name": "python",
   "nbconvert_exporter": "python",
   "pygments_lexer": "ipython3",
   "version": "3.7.3"
  }
 },
 "nbformat": 4,
 "nbformat_minor": 2
}
